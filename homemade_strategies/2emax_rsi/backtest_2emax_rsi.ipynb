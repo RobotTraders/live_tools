{
 "cells": [
  {
   "cell_type": "markdown",
   "metadata": {
    "id": "dcxb2PQtUE8V"
   },
   "source": [
    "**<h1>Setup and data processing<h1>**\n",
    "\n",
    "---\n",
    "\n"
   ]
  },
  {
   "cell_type": "markdown",
   "metadata": {
    "id": "Ni0tCgXTSQL9"
   },
   "source": [
    "<h3>Package installation<h3>\n"
   ]
  },
  {
   "cell_type": "code",
   "execution_count": null,
   "metadata": {
    "colab": {
     "base_uri": "https://localhost:8080/"
    },
    "id": "FQpoFECiJiLG",
    "outputId": "d0bbe493-d8c8-4ea1-b53a-a3e595aef54b"
   },
   "outputs": [],
   "source": [
    "%pip install pandas\n",
    "%pip install python-binance\n",
    "%pip install ta\n",
    "%pip install matplotlib"
   ]
  },
  {
   "cell_type": "markdown",
   "metadata": {
    "id": "G3kKKxoL1xNo"
   },
   "source": [
    "<h3>Imports<h3>"
   ]
  },
  {
   "cell_type": "code",
   "execution_count": null,
   "metadata": {
    "id": "ix8j_V3gWOt5"
   },
   "outputs": [],
   "source": [
    "import pandas as pd\n",
    "from binance.client import Client\n",
    "import ta\n",
    "import matplotlib.pyplot as plt"
   ]
  },
  {
   "cell_type": "markdown",
   "metadata": {
    "id": "VLyBtxe4Xn6U"
   },
   "source": [
    "<h3>Coin & Wallet Specs<h3>"
   ]
  },
  {
   "cell_type": "code",
   "execution_count": null,
   "metadata": {
    "id": "-Ox7M5AMXn6V"
   },
   "outputs": [],
   "source": [
    "name_base = \"ETH\"\n",
    "name_quote = \"USDT\"\n",
    "timeframe = \"1d\"\n",
    "starting_date = \"01 january 2017\"\n",
    "initial_wallet = 100\n",
    "trading_fees = 0.001"
   ]
  },
  {
   "cell_type": "markdown",
   "metadata": {
    "id": "BEmSeIfaXn6V"
   },
   "source": [
    "<h3>Binance data<h3>"
   ]
  },
  {
   "cell_type": "code",
   "execution_count": null,
   "metadata": {
    "id": "hjRUhkHYXn6W"
   },
   "outputs": [],
   "source": [
    "# download the coin info\n",
    "symbol = name_base+name_quote\n",
    "info = Client().get_historical_klines(symbol, timeframe, starting_date)\n",
    "# info = Client(tld='us').get_historical_klines(symbol, timeframe, starting_date) # if in US or Japan."
   ]
  },
  {
   "cell_type": "code",
   "execution_count": null,
   "metadata": {
    "id": "I9G3zQHXXn6Y"
   },
   "outputs": [],
   "source": [
    "# storing it into a pandas data frame\n",
    "dl_data = pd.DataFrame(info, columns = ['timestamp', 'open', 'high', 'low', 'close', 'volume', 'close_time', 'quote_av', 'trades', 'tb_base_av', 'tb_quote_av', 'ignore' ])"
   ]
  },
  {
   "cell_type": "code",
   "execution_count": null,
   "metadata": {
    "id": "QUYKDt-B5Jxo"
   },
   "outputs": [],
   "source": [
    "# copy of the dowloaded data \n",
    "data = dl_data.copy()"
   ]
  },
  {
   "cell_type": "code",
   "execution_count": null,
   "metadata": {
    "id": "mJkCWcgnXn6Z"
   },
   "outputs": [],
   "source": [
    "# keeping only the necessary columns\n",
    "data.drop(columns=data.columns.difference(['timestamp','close']), inplace=True)\n",
    "# formating the index\n",
    "data.set_index(data['timestamp'], inplace=True)\n",
    "data.index = pd.to_datetime(data.index, unit='ms')\n",
    "del data['timestamp']\n",
    "# formating the numbers\n",
    "data[\"close\"] = pd.to_numeric(data[\"close\"])"
   ]
  },
  {
   "cell_type": "markdown",
   "metadata": {
    "id": "WF-auzhx2a0S"
   },
   "source": [
    "<h3>Indicators<h3>"
   ]
  },
  {
   "cell_type": "code",
   "execution_count": null,
   "metadata": {
    "colab": {
     "base_uri": "https://localhost:8080/",
     "height": 455
    },
    "id": "u9-_ogs6Ys_t",
    "outputId": "028ea0f1-7ca0-4d80-d1a0-6ff2e0e496c1"
   },
   "outputs": [],
   "source": [
    "data['EMA-st'] = ta.trend.ema_indicator(data['close'], 12)\n",
    "data['EMA-lt'] = ta.trend.ema_indicator(data['close'], 18)\n",
    "data['RSI'] = ta.momentum.rsi(data['close'])\n",
    "data.dropna(inplace=True)\n",
    "data"
   ]
  },
  {
   "cell_type": "markdown",
   "metadata": {
    "id": "spLsnfE7VPXd"
   },
   "source": [
    "**<h1>Backtest<h1>**\n",
    "\n",
    "---"
   ]
  },
  {
   "cell_type": "markdown",
   "metadata": {
    "id": "gWPQerOHVZ1-"
   },
   "source": [
    "<h3>Strategy<h3>"
   ]
  },
  {
   "cell_type": "code",
   "execution_count": null,
   "metadata": {
    "id": "XigXi4AQXn6f"
   },
   "outputs": [],
   "source": [
    "def buy_condition(row):\n",
    "    return row['EMA-st'] > row['EMA-lt'] and row['RSI'] < 70\n",
    "\n",
    "def sell_condition(row):\n",
    "    return row['EMA-st'] < row['EMA-lt'] and row['RSI'] > 30"
   ]
  },
  {
   "cell_type": "markdown",
   "metadata": {
    "id": "l47iU_h7Vjyy"
   },
   "source": [
    "<h3>Backtest loop<h3>"
   ]
  },
  {
   "cell_type": "code",
   "execution_count": null,
   "metadata": {
    "colab": {
     "base_uri": "https://localhost:8080/"
    },
    "id": "OhFGynkSXn6f",
    "outputId": "7a5f4250-dd47-4b4e-b90a-fdfaa783ba7b"
   },
   "outputs": [],
   "source": [
    "quote = initial_wallet\n",
    "base = 0\n",
    "orders = []\n",
    "data['wallet'] = ''\n",
    "data['hodl'] = ''\n",
    "last_ath = 0\n",
    "\n",
    "for index, row in data.iterrows():\n",
    "\n",
    "    value = row['close']\n",
    "\n",
    "    if buy_condition(row) and quote > 0:\n",
    "        base = quote / value\n",
    "        fee = base * trading_fees\n",
    "        base -= fee\n",
    "        quote = 0\n",
    "        wallet = base * value\n",
    "        if wallet > last_ath:\n",
    "            last_ath = wallet\n",
    "\n",
    "        orders.append({'timestamp': index,\n",
    "                       'side': 'buy',\n",
    "                       'price': value,\n",
    "                       'base': base,\n",
    "                       'quote': quote,\n",
    "                       'wallet': wallet,\n",
    "                       'fee': fee,\n",
    "                       'drawdown': (wallet - last_ath) / last_ath,\n",
    "                       })\n",
    "        print(f\"Bought {name_base} at {value}$ on the {index}\")\n",
    "\n",
    "    elif sell_condition(row) and base > 0:\n",
    "        fee = base * value * trading_fees\n",
    "        quote = base * value - fee\n",
    "        base = 0\n",
    "        wallet = quote\n",
    "        if wallet > last_ath:\n",
    "            last_ath = wallet\n",
    "\n",
    "        orders.append({'timestamp': index,\n",
    "                       'side': 'sell',\n",
    "                       'price': value,\n",
    "                       'base': base,\n",
    "                       'quote': quote,\n",
    "                       'wallet': wallet,\n",
    "                       'fee': fee,\n",
    "                       'drawdown': (wallet - last_ath) / last_ath,\n",
    "                       })\n",
    "        print(f\"Sold {name_base} at {value}$ on the {index}\")\n",
    "\n",
    "    data.at[index, 'wallet'] = quote + base * value\n",
    "    data.at[index, 'hodl'] = initial_wallet / data[\"close\"].iloc[0] * value\n",
    "\n",
    "orders = pd.DataFrame(orders, columns=['timestamp', 'side', 'price', 'base', 'quote', 'wallet', 'fee', 'drawdown'])"
   ]
  },
  {
   "cell_type": "markdown",
   "metadata": {
    "id": "AiJZXf662rG9"
   },
   "source": [
    "**<h1>Results<h1>**\n",
    "\n",
    "\n",
    "---\n",
    "\n"
   ]
  },
  {
   "cell_type": "markdown",
   "metadata": {
    "id": "t7gwZoev5Jxs"
   },
   "source": [
    "<h3>Profits<h3>"
   ]
  },
  {
   "cell_type": "code",
   "execution_count": null,
   "metadata": {
    "colab": {
     "base_uri": "https://localhost:8080/",
     "height": 497
    },
    "id": "ihXSgCneZqFD",
    "outputId": "383b9ef9-b93c-4326-845e-4c91107a499e"
   },
   "outputs": [],
   "source": [
    "profit_bot = ((data.iloc[-1]['wallet'] - initial_wallet)/initial_wallet) * 100\n",
    "profit_hodl = ((data.iloc[-1]['hodl'] - data.iloc[0]['hodl'])/data.iloc[0]['hodl']) * 100\n",
    "\n",
    "print(f\" > Period: {data.index[0]} -> {data.index[-1]} \")\n",
    "print(f\" > Starting balance: {initial_wallet} {name_quote}\")\n",
    "print(f\" > Final balance strategy: {round(data.iloc[-1]['wallet'],2)} {name_quote}\")\n",
    "print(f\" > Final balance hodl: {round(data.iloc[-1]['hodl'],2)} {name_quote}\")\n",
    "print(f\" > Strategy profits: {round(profit_bot,2)}%\")\n",
    "print(f\" > Hodl profits: {round(profit_hodl,2)}%\")\n",
    "print(f\" > Strategy/Hodl: {round(data.iloc[-1]['wallet']/data.iloc[-1]['hodl'],2)}\")\n",
    "\n",
    "plt.figure(figsize=(7, 5))\n",
    "plt.plot(\n",
    "    data.index,\n",
    "    data[\"wallet\"],\n",
    "    label=\"wallet\",\n",
    "    color=\"gold\",\n",
    ")\n",
    "plt.plot(\n",
    "    data.index,\n",
    "    data[\"hodl\"],\n",
    "    label=\"hodl\",\n",
    "    color=\"purple\",\n",
    ")\n",
    "plt.legend(fontsize=16, loc=\"upper left\")\n",
    "plt.ylabel(f\"{name_quote}\", fontsize=20)\n",
    "plt.xlabel(\"Timestamps\", fontsize=20)\n",
    "plt.xticks(fontsize=14)\n",
    "plt.yticks(fontsize=14)\n",
    "plt.tight_layout()"
   ]
  },
  {
   "cell_type": "markdown",
   "metadata": {
    "id": "C4BYUXcP5Jxt"
   },
   "source": [
    "<h3>Trades<h3>"
   ]
  },
  {
   "cell_type": "code",
   "execution_count": null,
   "metadata": {
    "colab": {
     "base_uri": "https://localhost:8080/"
    },
    "id": "iLipz79B5Jxt",
    "outputId": "0da41cb7-2679-42bd-8d22-1ec9de3ae1ac"
   },
   "outputs": [],
   "source": [
    "orders['PnL'] = orders['wallet'].diff()\n",
    "orders.at[0, 'PnL'] = orders.iloc[0]['wallet'] - initial_wallet\n",
    "orders['PnL%'] = orders['wallet'].pct_change()*100\n",
    "orders.at[0, 'PnL%'] = (orders.iloc[0]['wallet']-initial_wallet)/initial_wallet*100\n",
    "\n",
    "n_orders = len(orders.index)\n",
    "n_buy_orders = orders['side'].value_counts()['buy']\n",
    "n_sell_orders = orders['side'].value_counts()['sell']\n",
    "\n",
    "orders.loc[orders['side']=='buy','PnL'] = None\n",
    "orders.loc[orders['side']=='buy','PnL%'] = None\n",
    "orders['Win'] = ''\n",
    "orders.loc[orders['PnL']>0,'Win'] = 'Yes'\n",
    "orders.loc[orders['PnL']<=0,'Win'] = 'No'\n",
    "n_pos_trades = orders['Win'].value_counts()['Yes']\n",
    "n_neg_trades = orders['Win'].value_counts()['No']\n",
    "winrate = round(n_pos_trades / (n_pos_trades+n_neg_trades) * 100,2)\n",
    "avg_trades = round(orders['PnL%'].mean(),2)\n",
    "avg_pos_trades = round(orders.loc[orders['Win'] == 'Yes']['PnL%'].mean(),2)\n",
    "avg_neg_trades = round(orders.loc[orders['Win'] == 'No']['PnL%'].mean(),2)\n",
    "best_trade = orders['PnL%'].max()\n",
    "when_best_trade = orders['timestamp'][orders.loc[orders['PnL%'] == best_trade].index.tolist()[0]]\n",
    "best_trade = round(best_trade,2)\n",
    "worst_trade = orders['PnL%'].min()\n",
    "when_worst_trade = orders['timestamp'][orders.loc[orders['PnL%'] == worst_trade].index.tolist()[0]]\n",
    "worst_trade = round(worst_trade,2)\n",
    "\n",
    "print(f\" > Orders: {n_orders} ({n_buy_orders} buy, {n_sell_orders} sell)\")\n",
    "print(f\" > Number of trades: {n_pos_trades+n_neg_trades}\")\n",
    "print(f\" > Winrate: {winrate}%\")\n",
    "print(f\" > Average trade profits: {avg_trades}%\")\n",
    "print(f\" > Number of positive trades: {n_pos_trades}\")\n",
    "print(f\" > Number of negative trades: {n_neg_trades}\")\n",
    "print(f\" > Average of positive trades: {avg_pos_trades}%\")\n",
    "print(f\" > Average of negative trades: {avg_neg_trades}%\")\n",
    "print(f\" > Best trade: {best_trade}% on the {when_best_trade}\")\n",
    "print(f\" > Worst trade: {worst_trade}% on the {when_worst_trade}\")"
   ]
  },
  {
   "cell_type": "markdown",
   "metadata": {
    "id": "y1o8DElW5Jxu"
   },
   "source": [
    "<h3>Drawdown<h3>"
   ]
  },
  {
   "cell_type": "code",
   "execution_count": null,
   "metadata": {
    "colab": {
     "base_uri": "https://localhost:8080/"
    },
    "id": "-df2WZh25Jxu",
    "outputId": "89fc8484-2e36-4d9e-ead3-2630f988707c"
   },
   "outputs": [],
   "source": [
    "worst_drawdown = round(orders['drawdown'].min()*100,2)\n",
    "print(f\" > Worst: {worst_drawdown}%\")"
   ]
  },
  {
   "cell_type": "markdown",
   "metadata": {
    "id": "Gu9spYy05Jxv"
   },
   "source": [
    "<h3>Fees<h3>"
   ]
  },
  {
   "cell_type": "code",
   "execution_count": null,
   "metadata": {
    "colab": {
     "base_uri": "https://localhost:8080/"
    },
    "id": "N7-HfdbD5Jxv",
    "outputId": "835993da-d7d1-4933-c214-d32e5bb742a9"
   },
   "outputs": [],
   "source": [
    "total_fee = round(orders['fee'].sum(),2)\n",
    "print(f\" > Total: {total_fee} {name_quote}\")"
   ]
  }
 ],
 "metadata": {
  "colab": {
   "provenance": []
  },
  "kernelspec": {
   "display_name": "Python 3 (ipykernel)",
   "language": "python",
   "name": "python3"
  },
  "language_info": {
   "codemirror_mode": {
    "name": "ipython",
    "version": 3
   },
   "file_extension": ".py",
   "mimetype": "text/x-python",
   "name": "python",
   "nbconvert_exporter": "python",
   "pygments_lexer": "ipython3",
   "version": "3.10.6"
  }
 },
 "nbformat": 4,
 "nbformat_minor": 1
}
